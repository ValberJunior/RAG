{
 "cells": [
  {
   "cell_type": "code",
   "execution_count": 1,
   "id": "6689cd3a-bf72-489a-ac8a-19b5d07ccfc6",
   "metadata": {},
   "outputs": [],
   "source": [
    "from langchain.text_splitter import RecursiveCharacterTextSplitter\n",
    "from langchain_openai import OpenAIEmbeddings\n",
    "from langchain_openai import ChatOpenAI\n",
    "from langchain_chroma import Chroma\n",
    "from langchain_community.document_loaders import PyPDFLoader\n",
    "from langchain.chains.question_answering import load_qa_chain"
   ]
  },
  {
   "cell_type": "code",
   "execution_count": 2,
   "id": "7c200531-5c0f-4f3e-aa5c-392a092a011d",
   "metadata": {},
   "outputs": [],
   "source": [
    "import os"
   ]
  },
  {
   "cell_type": "code",
   "execution_count": 3,
   "id": "7f5b287c",
   "metadata": {},
   "outputs": [],
   "source": [
    "# Load models\n",
    "\n",
    "embeddings_model = OpenAIEmbeddings()\n",
    "llm = ChatOpenAI(\n",
    "    temperature=0,\n",
    "    model=\"gpt-3.5-turbo\",\n",
    "    openai_api_key=os.getenv(\"OPENAI_API_KEY\"),\n",
    "    max_completion_tokens=200\n",
    ")"
   ]
  },
  {
   "cell_type": "code",
   "execution_count": 4,
   "id": "42760ce5",
   "metadata": {},
   "outputs": [],
   "source": [
    "# Load PDF\n",
    "pdf_link = 'Lei_geral_protecao_dados_pessoais_1ed.pdf'\n",
    "\n",
    "loader = PyPDFLoader(pdf_link, extract_images=False)\n",
    "pages = loader.load_and_split()  # Carregar o pdf e separar em páginas\n"
   ]
  },
  {
   "cell_type": "code",
   "execution_count": 5,
   "id": "29f136aa",
   "metadata": {},
   "outputs": [],
   "source": [
    "# Separar em Chunks (Pedaços de documento)\n",
    "\n",
    "text__splitter = RecursiveCharacterTextSplitter(\n",
    "    chunk_size=4000,\n",
    "    chunk_overlap=20,  # Número de palavras que se sobrepõem entre os chunks\n",
    "    length_function=len,\n",
    "    add_start_index=True\n",
    ")\n",
    "\n",
    "chunks = text__splitter.split_documents(pages)  # Separar o documento em pedaços"
   ]
  },
  {
   "cell_type": "code",
   "execution_count": 6,
   "id": "34eb233f",
   "metadata": {},
   "outputs": [],
   "source": [
    "# Salvar no vector DB\n",
    "db = Chroma.from_documents(chunks,embeddings_model, persist_directory=\"text_index\")"
   ]
  },
  {
   "cell_type": "code",
   "execution_count": 8,
   "id": "54abc859",
   "metadata": {},
   "outputs": [],
   "source": [
    "# carregar DB\n",
    "vectorDB = Chroma(persist_directory=\"text_index\", embedding_function=embeddings_model)\n",
    "\n",
    "# Load Retriever (buscador)\n",
    "retriever = vectorDB.as_retriever(search_kwargs={\"k\": 3})  # k = número de documentos retornados\n",
    "\n",
    "# Load QA Chain (construção da cadeia do chunks para fazer o llm)\n",
    "qa_chain = load_qa_chain(\n",
    "    llm,\n",
    "    chain_type=\"stuff\", # \"stuff\" é o tipo de cadeia que queremos usar\n",
    "    verbose=True   # Mostra o que está a acontecer\n",
    ")"
   ]
  },
  {
   "cell_type": "code",
   "execution_count": 9,
   "id": "a32fae98",
   "metadata": {},
   "outputs": [],
   "source": [
    "def ask(question):\n",
    "    context = retriever.get_relevant_documents(question)  # Pega os documentos relevantes\n",
    "    answer = (qa_chain({\"input_documents\": context, \"question\": question},return_only_outputs=True))['output_text']  # Faz a pergunta\n",
    "    return answer"
   ]
  },
  {
   "cell_type": "code",
   "execution_count": 10,
   "id": "8fba848c",
   "metadata": {},
   "outputs": [
    {
     "name": "stderr",
     "output_type": "stream",
     "text": [
      "/tmp/ipykernel_943170/738414472.py:2: LangChainDeprecationWarning: The method `BaseRetriever.get_relevant_documents` was deprecated in langchain-core 0.1.46 and will be removed in 1.0. Use :meth:`~invoke` instead.\n",
      "  context = retriever.get_relevant_documents(question)  # Pega os documentos relevantes\n",
      "/tmp/ipykernel_943170/738414472.py:3: LangChainDeprecationWarning: The method `Chain.__call__` was deprecated in langchain 0.1.0 and will be removed in 1.0. Use :meth:`~invoke` instead.\n",
      "  answer = (qa_chain({\"input_documents\": context, \"question\": question},return_only_outputs=True))['output_text']  # Faz a pergunta\n"
     ]
    },
    {
     "name": "stdout",
     "output_type": "stream",
     "text": [
      "\n",
      "\n",
      "\u001b[1m> Entering new StuffDocumentsChain chain...\u001b[0m\n",
      "\n",
      "\n",
      "\u001b[1m> Entering new LLMChain chain...\u001b[0m\n",
      "Prompt after formatting:\n",
      "\u001b[32;1m\u001b[1;3mSystem: Use the following pieces of context to answer the user's question. \n",
      "If you don't know the answer, just say that you don't know, don't try to make up an answer.\n",
      "----------------\n",
      "Lei Geral de Proteção  \n",
      "de Dados Pessoais\n",
      "\n",
      "Lei Geral de Proteção  \n",
      "de Dados Pessoais\n",
      "\n",
      "Lei Geral de Proteção  \n",
      "de Dados Pessoais\n",
      "Human: Quais as principais leis que preciso para aplicar em minha empresa?\u001b[0m\n",
      "\n",
      "\u001b[1m> Finished chain.\u001b[0m\n",
      "\n",
      "\u001b[1m> Finished chain.\u001b[0m\n",
      "Uma das principais leis que você precisa aplicar em sua empresa é a Lei Geral de Proteção de Dados Pessoais (LGPD). Ela estabelece regras sobre a coleta, armazenamento, tratamento e compartilhamento de dados pessoais, visando proteger a privacidade e a segurança das informações dos usuários. Além da LGPD, outras leis importantes a serem consideradas dependem do ramo de atuação da sua empresa, como o Código de Defesa do Consumidor, a CLT (Consolidação das Leis do Trabalho), entre outras. É sempre importante consultar um advogado especializado para garantir que sua empresa esteja em conformidade com a legislação vigente.\n"
     ]
    }
   ],
   "source": [
    "user_question = input(\"user: \")\n",
    "answer = ask(user_question) # Faz a pergunta\n",
    "print(answer)  # Imprime a resposta"
   ]
  }
 ],
 "metadata": {
  "kernelspec": {
   "display_name": "venv",
   "language": "python",
   "name": "python3"
  },
  "language_info": {
   "codemirror_mode": {
    "name": "ipython",
    "version": 3
   },
   "file_extension": ".py",
   "mimetype": "text/x-python",
   "name": "python",
   "nbconvert_exporter": "python",
   "pygments_lexer": "ipython3",
   "version": "3.12.3"
  }
 },
 "nbformat": 4,
 "nbformat_minor": 5
}
